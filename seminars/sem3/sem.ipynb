{
 "cells": [
  {
   "cell_type": "code",
   "execution_count": 1,
   "metadata": {},
   "outputs": [],
   "source": [
    "json_string = \"\"\"{\"organisation\": \"Python Software Foundation\",\n",
    "                 \"officers\": [\n",
    "                            {\"first_name\": \"Guido\", \"last_name\":\"Rossum\", \"position\":\"president\"},\n",
    "                            {\"first_name\": \"Diana\", \"last_name\":\"Clarke\", \"position\":\"chair\"},\n",
    "                            {\"first_name\": \"Naomi\", \"last_name\":\"Ceder\", \"position\":\"vice chair\"},\n",
    "                            {\"first_name\": \"Van\", \"last_name\":\"Lindberg\", \"position\":\"vice chair\"},\n",
    "                            {\"first_name\": \"Ewa\", \"last_name\":\"Jodlowska\", \"position\":\"director of operations\"}\n",
    "                            ],\n",
    "                \"type\": \"non-profit\",\n",
    "                \"country\": \"USA\",\n",
    "                \"founded\": 2001,\n",
    "                \"members\": 244,\n",
    "                \"budget\": 750000,\n",
    "                \"url\": \"www.python.org/psf/\"}\"\"\""
   ]
  },
  {
   "cell_type": "code",
   "execution_count": 2,
   "metadata": {},
   "outputs": [
    {
     "name": "stdout",
     "output_type": "stream",
     "text": [
      "<class 'dict'>\n"
     ]
    }
   ],
   "source": [
    "import json\n",
    "\n",
    "data = json.loads(json_string)\n",
    "print(type(data))  # распечатаем тип объекта и убедимся, что теперь это не строка, а словарь"
   ]
  },
  {
   "cell_type": "code",
   "execution_count": 3,
   "metadata": {
    "scrolled": true
   },
   "outputs": [
    {
     "name": "stdout",
     "output_type": "stream",
     "text": [
      "{'budget': 750000,\n",
      " 'country': 'USA',\n",
      " 'founded': 2001,\n",
      " 'members': 244,\n",
      " 'officers': [{'first_name': 'Guido',\n",
      "               'last_name': 'Rossum',\n",
      "               'position': 'president'},\n",
      "              {'first_name': 'Diana',\n",
      "               'last_name': 'Clarke',\n",
      "               'position': 'chair'},\n",
      "              {'first_name': 'Naomi',\n",
      "               'last_name': 'Ceder',\n",
      "               'position': 'vice chair'},\n",
      "              {'first_name': 'Van',\n",
      "               'last_name': 'Lindberg',\n",
      "               'position': 'vice chair'},\n",
      "              {'first_name': 'Ewa',\n",
      "               'last_name': 'Jodlowska',\n",
      "               'position': 'director of operations'}],\n",
      " 'organisation': 'Python Software Foundation',\n",
      " 'type': 'non-profit',\n",
      " 'url': 'www.python.org/psf/'}\n"
     ]
    }
   ],
   "source": [
    "from pprint import pprint as pp\n",
    "\n",
    "pp(data) # посмотрим на сам этот словарь"
   ]
  },
  {
   "cell_type": "code",
   "execution_count": 4,
   "metadata": {},
   "outputs": [
    {
     "name": "stdout",
     "output_type": "stream",
     "text": [
      "organisation officers type country founded members budget url "
     ]
    }
   ],
   "source": [
    "# и попробуем поработать с этим словарем. например, распечатаем его ключи.\n",
    "for key in data: \n",
    "    print(key, end=' ')\n"
   ]
  },
  {
   "cell_type": "code",
   "execution_count": 5,
   "metadata": {},
   "outputs": [
    {
     "name": "stdout",
     "output_type": "stream",
     "text": [
      "<class 'str'>\n"
     ]
    }
   ],
   "source": [
    "# теперь предположим, что у нас есть питоновский словарь или массив, который мы хотим сохранить в виде строки json\n",
    "\n",
    "d = {\"John\": 21, \"Kate\": 20, \"Bill\": 27}\n",
    "json_string = json.dumps(d)\n",
    "print(type(json_string)) # убедимся, что теперь наши данные превратились в строку"
   ]
  },
  {
   "cell_type": "code",
   "execution_count": 6,
   "metadata": {},
   "outputs": [
    {
     "name": "stdout",
     "output_type": "stream",
     "text": [
      "{\"John\": 21, \"Kate\": 20, \"Bill\": 27}\n"
     ]
    }
   ],
   "source": [
    "# распечатаем эту строку\n",
    "print(json_string)"
   ]
  },
  {
   "cell_type": "code",
   "execution_count": 7,
   "metadata": {},
   "outputs": [
    {
     "name": "stdout",
     "output_type": "stream",
     "text": [
      "<class 'str'>\n",
      "[\"hello\", \"world\"]\n"
     ]
    }
   ],
   "source": [
    "# то же самое можно делать с массивами\n",
    "arr = ['hello', 'world']\n",
    "json_string = json.dumps(arr)\n",
    "print(type(json_string)) \n",
    "print(json_string)"
   ]
  },
  {
   "cell_type": "code",
   "execution_count": 8,
   "metadata": {},
   "outputs": [
    {
     "data": {
      "text/plain": [
       "{'где': 2, 'абв': 1, 'ёжз': 3}"
      ]
     },
     "execution_count": 8,
     "metadata": {},
     "output_type": "execute_result"
    }
   ],
   "source": [
    "# добавим параметр ensure_ascii(для того, чтобы работать со всякими странными символами, которых нет в ascii):\n",
    "\n",
    "with open('data.json', 'w', encoding='utf-8') as f:\n",
    "    json.dump(d, f, ensure_ascii = False)\n",
    "\n",
    "# результат:\n",
    "\n",
    "{\"где\": 2, \"абв\": 1, \"ёжз\": 3}\n"
   ]
  },
  {
   "cell_type": "code",
   "execution_count": 9,
   "metadata": {},
   "outputs": [
    {
     "data": {
      "text/plain": [
       "{'абв': 1, 'где': 2, 'ёжз': 3}"
      ]
     },
     "execution_count": 9,
     "metadata": {},
     "output_type": "execute_result"
    }
   ],
   "source": [
    "# добавим indent (числовое значение -- это число пробелов в отступах):\n",
    "\n",
    "with open('data.json', 'w', encoding='utf-8') as f:\n",
    "    json.dump(d, f, ensure_ascii = False, indent = 4)\n",
    "\n",
    "# результат\n",
    "\n",
    "{\n",
    "    \"абв\": 1,\n",
    "    \"где\": 2,\n",
    "    \"ёжз\": 3\n",
    "}"
   ]
  },
  {
   "cell_type": "code",
   "execution_count": null,
   "metadata": {},
   "outputs": [],
   "source": []
  }
 ],
 "metadata": {
  "kernelspec": {
   "display_name": "Python 3",
   "language": "python",
   "name": "python3"
  },
  "language_info": {
   "codemirror_mode": {
    "name": "ipython",
    "version": 3
   },
   "file_extension": ".py",
   "mimetype": "text/x-python",
   "name": "python",
   "nbconvert_exporter": "python",
   "pygments_lexer": "ipython3",
   "version": "3.6.5"
  }
 },
 "nbformat": 4,
 "nbformat_minor": 2
}
