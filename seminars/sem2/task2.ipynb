{
 "cells": [
  {
   "cell_type": "code",
   "execution_count": 11,
   "metadata": {
    "scrolled": true
   },
   "outputs": [],
   "source": [
    "def phone_book(name, dict_phone):\n",
    "    number = dict_phone.get(name)\n",
    "    if number != None:\n",
    "        return number \n",
    "    dict_phone[name] = input('В телефонной книге пока нет такого имени. Введите номер телефона: ')\n",
    "    return dict_phone\n"
   ]
  },
  {
   "cell_type": "code",
   "execution_count": 12,
   "metadata": {},
   "outputs": [
    {
     "name": "stdout",
     "output_type": "stream",
     "text": [
      "345654\n",
      "В телефонной книге пока нет такого имени. Введите номер телефона: 78987\n",
      "{'Катя': '345654', 'Саша': '452345', 'Даша': '907834', 'Коля': '78987'}\n"
     ]
    }
   ],
   "source": [
    "dict_phone = {'Катя': '345654', 'Саша': '452345', 'Даша': '907834'}\n",
    "print(phone_book('Катя', dict_phone))\n",
    "print(phone_book('Коля', dict_phone))"
   ]
  },
  {
   "cell_type": "code",
   "execution_count": null,
   "metadata": {},
   "outputs": [],
   "source": []
  }
 ],
 "metadata": {
  "kernelspec": {
   "display_name": "Python 3",
   "language": "python",
   "name": "python3"
  },
  "language_info": {
   "codemirror_mode": {
    "name": "ipython",
    "version": 3
   },
   "file_extension": ".py",
   "mimetype": "text/x-python",
   "name": "python",
   "nbconvert_exporter": "python",
   "pygments_lexer": "ipython3",
   "version": "3.6.5"
  }
 },
 "nbformat": 4,
 "nbformat_minor": 2
}
