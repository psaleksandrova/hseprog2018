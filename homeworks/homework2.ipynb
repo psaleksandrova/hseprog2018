{
 "cells": [
  {
   "cell_type": "code",
   "execution_count": 8,
   "metadata": {},
   "outputs": [],
   "source": [
    "import json\n",
    "import urllib.request\n",
    "users = ['elmiram', 'maryszmary', 'lizaku', 'nevmenandr', 'ancatmara', 'roctbb', 'akutuzov', 'agricolamz', 'lehkost', \n",
    "         'kylepjohnson', 'mikekestemont', 'demidovakatya', 'shwars', 'JelteF', 'timgraham', 'arogozhnikov', 'jasny', 'bcongdon',\n",
    "         'whyisjake', 'gvanrossum']\n",
    "\n",
    "def get_data(users, obj):\n",
    "    # получение необходимой информации (задаётся obj) о пользователе \n",
    "    # и перевод этой информации из json в объекты питона\n",
    "    data = {} # словарь, в котором ключи - имена пользователей, а значения - искомая информация\n",
    "    #token = \"e9c10645211be3ad2215b50790129234822cddcb\"\n",
    "    for user in users:\n",
    "        Flag = True\n",
    "        page_index = 1\n",
    "        text = ''\n",
    "        while Flag: # цикл, чтобы научиться \"перелистывать\" страницы в гитхабе\n",
    "            url = 'https://api.github.com/users/%s/%s?page=%d&per_page=100&access_token=%s' % (user, obj, page_index, token)\n",
    "            response = urllib.request.urlopen(url)\n",
    "        \n",
    "            if response.info()['Link'] is None or response.info()['Link'].find('rel=\"next\"') == -1:\n",
    "                # проверка на существование следующей страницы \n",
    "                # отдельно рассматривается случай, когда имеется всего 1 страница\n",
    "                Flag = False \n",
    "        \n",
    "            page_index += 1\n",
    "\n",
    "            text = response.read().decode('utf-8')\n",
    "            if user in data:\n",
    "                data[user] += json.loads(text)  \n",
    "            else:\n",
    "                data[user] = json.loads(text)          \n",
    "    return data\n",
    "\n",
    "\n",
    "def check_name(users):\n",
    "    # проверка правильности введённого имени пользователя \n",
    "    user = input('Выберите (не)случайного пользователя из списка %s: ' % str(users).strip(\"[]\").replace(\"'\", ''))\n",
    "    while user not in users:\n",
    "        user = input('Такого пользователя нет в списке. Пожалуйста, выберите человека из %s: ' \n",
    "                     % str(users).strip(\"[]\").replace(\"'\", ''))\n",
    "    return user"
   ]
  },
  {
   "cell_type": "code",
   "execution_count": 9,
   "metadata": {},
   "outputs": [],
   "source": [
    "def get_rep(user, data):\n",
    "    # выдача списка репозиториев выбранного пользователя и их описания\n",
    "    print('Вот список его репозиториев:')\n",
    "    for i in data[user]:\n",
    "        print('%s: %s.' % (i[\"name\"], i[\"description\"]))\n",
    "        \n",
    "\n",
    "def get_lang(user, data):\n",
    "    # выдача списка языков пользователя и количества репозиториев, в которых они используются\n",
    "    dict_lang = {}\n",
    "    for i in data[user]:\n",
    "        now_l = i[\"language\"]\n",
    "        if str(now_l) != 'None':\n",
    "            if now_l in dict_lang:\n",
    "                dict_lang[now_l] += 1\n",
    "            else:\n",
    "                dict_lang[now_l] = 1\n",
    "    for lang in dict_lang.keys():\n",
    "        if str(lang) != 'None':\n",
    "            print('Язык %s используется в следующем числе репозиториев: %d.' % (lang, dict_lang[lang]))"
   ]
  },
  {
   "cell_type": "code",
   "execution_count": 10,
   "metadata": {},
   "outputs": [],
   "source": [
    "def get_max_rep(users, data):\n",
    "    # поиск пользователя с наибольшим числом репозиториев\n",
    "    max_rep = 0\n",
    "\n",
    "    for user in users:    \n",
    "        if len(data[user]) > max_rep:\n",
    "            max_rep = len(data[user])\n",
    "            max_user = user\n",
    "    print('Больше всего репозиториев у пользователя %s.\\n' % max_user)\n",
    "    \n",
    "\n",
    "def get_max_lang(users, data):\n",
    "    # поиск самого популярного языка программирования\n",
    "    dict_lang = {}\n",
    "    for user in users:\n",
    "        for i in data[user]:\n",
    "            now_l = i[\"language\"]\n",
    "            if str(now_l) != 'None':\n",
    "                if now_l in dict_lang:\n",
    "                    dict_lang[now_l] += 1\n",
    "                else:\n",
    "                    dict_lang[now_l] = 1\n",
    "    max_count = 0\n",
    "    for lang in dict_lang.keys():\n",
    "        if str(lang) != 'None' and dict_lang[lang] > max_count:\n",
    "            max_lang = lang\n",
    "            max_count = dict_lang[lang]\n",
    "    print('Самый популярный язык программирования - %s.\\n' % max_lang)"
   ]
  },
  {
   "cell_type": "code",
   "execution_count": 11,
   "metadata": {},
   "outputs": [],
   "source": [
    "def get_max_foll(users):\n",
    "    # поиск пользователя с наибольшим числом подписчиков\n",
    "    data = get_data(users, 'followers')\n",
    "    max_count = 0\n",
    "    for user in users:\n",
    "        if len(data[user]) > max_count:\n",
    "            max_count = len(data[user])\n",
    "            max_user = user\n",
    "    print('Больше всего подписчиков у пользователя %s.' % max_user)"
   ]
  },
  {
   "cell_type": "code",
   "execution_count": 12,
   "metadata": {},
   "outputs": [],
   "source": [
    "def main(users):\n",
    "    data = get_data(users, 'repos')\n",
    "    \n",
    "    user = check_name(users)\n",
    "    print('Вы выбрали пользователя %s.\\n' % user)\n",
    "    \n",
    "    get_rep(user, data)\n",
    "    get_lang(user, data)\n",
    "    get_max_rep(users, data)\n",
    "    get_max_lang(users, data)\n",
    "    get_max_foll(users)"
   ]
  },
  {
   "cell_type": "code",
   "execution_count": 13,
   "metadata": {},
   "outputs": [
    {
     "name": "stdout",
     "output_type": "stream",
     "text": [
      "Выберите (не)случайного пользователя из списка elmiram, maryszmary, lizaku, nevmenandr, ancatmara, roctbb, akutuzov, agricolamz, lehkost, kylepjohnson, mikekestemont, demidovakatya, shwars, JelteF, timgraham, arogozhnikov, jasny, bcongdon, whyisjake, gvanrossum: lehkost\n",
      "Вы выбрали пользователя lehkost.\n",
      "\n",
      "Вот список его репозиториев:\n",
      "curb-your-enthusiasm: Network Analysis of \"Curb Your Enthusiasm\".\n",
      "curso-de-python: Spanish Translation of \"Tutorial and Introduction into Programming with Python for the Humanities\".\n",
      "DNBTitel-Elasticsearch: Some shell scripts to feed the open data from the German National Library (DNB) title catalogue to Elasticsearch..\n",
      "dramavis: *dramavis* is a Python program dedicated to the network analysis of dramatic texts. It computes a variety of network measures as well as graph visualisations..\n",
      "dramenquartett: Data sets for our #DHd2018 and #DH2018 poster contributions.\n",
      "ezlinavis: Easy Linavis (Simple Network Visualisation for Literary Texts).\n",
      "RusDraCor: Russian Drama Corpus (in TEI-P5).\n",
      "slides: slides and whatnot..\n",
      "textgrid-es: translation of TextGrid language files to Spanish.\n",
      "\n",
      "\n",
      "Язык Python используется в следующем числе репозиториев: 1.\n",
      "Язык XSLT используется в следующем числе репозиториев: 1.\n",
      "Язык HTML используется в следующем числе репозиториев: 3.\n",
      "Язык JavaScript используется в следующем числе репозиториев: 1.\n",
      "\n",
      "\n",
      "Больше всего репозиториев у пользователя JelteF.\n",
      "\n",
      "Самый популярный язык программирования - Python.\n",
      "\n",
      "Больше всего подписчиков у пользователя gvanrossum.\n"
     ]
    }
   ],
   "source": [
    "if __name__ == \"__main__\":\n",
    "    main(users)  "
   ]
  },
  {
   "cell_type": "code",
   "execution_count": null,
   "metadata": {},
   "outputs": [],
   "source": []
  }
 ],
 "metadata": {
  "kernelspec": {
   "display_name": "Python 3",
   "language": "python",
   "name": "python3"
  },
  "language_info": {
   "codemirror_mode": {
    "name": "ipython",
    "version": 3
   },
   "file_extension": ".py",
   "mimetype": "text/x-python",
   "name": "python",
   "nbconvert_exporter": "python",
   "pygments_lexer": "ipython3",
   "version": "3.6.5"
  }
 },
 "nbformat": 4,
 "nbformat_minor": 2
}
