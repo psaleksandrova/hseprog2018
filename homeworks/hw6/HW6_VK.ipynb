{
 "cells": [
  {
   "cell_type": "code",
   "execution_count": 2,
   "metadata": {},
   "outputs": [],
   "source": [
    "import urllib.request\n",
    "import json\n",
    "import sqlite3\n",
    "import os\n",
    "from datetime import datetime\n",
    "import matplotlib.pyplot as plt\n",
    "%matplotlib inline"
   ]
  },
  {
   "cell_type": "code",
   "execution_count": 3,
   "metadata": {
    "scrolled": true
   },
   "outputs": [
    {
     "name": "stdout",
     "output_type": "stream",
     "text": [
      "[nltk_data] Downloading package stopwords to\n",
      "[nltk_data]     C:\\Users\\palek\\AppData\\Roaming\\nltk_data...\n",
      "[nltk_data]   Package stopwords is already up-to-date!\n"
     ]
    }
   ],
   "source": [
    "import re\n",
    "import string\n",
    "import nltk\n",
    "nltk.download(\"stopwords\")\n",
    "from nltk.corpus import stopwords\n",
    "from pymystem3 import Mystem"
   ]
  },
  {
   "cell_type": "code",
   "execution_count": 4,
   "metadata": {},
   "outputs": [],
   "source": [
    "def del_empty(words):\n",
    "    while '' in words:\n",
    "        words.remove('')\n",
    "    return words\n",
    "\n",
    "\n",
    "def clear(text):\n",
    "    words = [word for word in re.split(r'[\\s.,()—:`;\"*&!?\\'“”]+', text) \n",
    "             if not re.findall('[^А-Яа-я\\-]', word)]\n",
    "    del_empty(words)\n",
    "    return words\n",
    "\n",
    "\n",
    "def stopw(words):\n",
    "    russian_stopwords = stopwords.words(\"russian\")\n",
    "    for word in words:\n",
    "        if word in russian_stopwords:\n",
    "            words.remove(word)\n",
    "    return words\n",
    "\n",
    "\n",
    "def lemmat(words):\n",
    "    mystem = Mystem()\n",
    "    words = mystem.lemmatize(text.lower())\n",
    "    return words"
   ]
  },
  {
   "cell_type": "code",
   "execution_count": 5,
   "metadata": {},
   "outputs": [],
   "source": [
    "def count_years(bdate):\n",
    "    #\n",
    "    bdate = datetime.strptime(bdate, '%d.%m.%Y')\n",
    "    now_date = datetime.now()\n",
    "    years = now_date.year - bdate.year\n",
    "    if now_date.month < bdate.month or now_date.month == bdate.month and now_date.day < bdate.day:\n",
    "        years -= 1\n",
    "    return years"
   ]
  },
  {
   "cell_type": "code",
   "execution_count": 6,
   "metadata": {},
   "outputs": [],
   "source": [
    "def read_post(itr):\n",
    "# itr - номер итерации обращения к стене\n",
    "    owner_id = '-64474568'\n",
    "    offset = str(itr * 100)\n",
    "    v ='5.92'\n",
    "    access_token = '68f7cc4b68f7cc4b68f7cc4b9c689e0eeb668f768f7cc4b345fbedb73b86a0bd1519d04'\n",
    "    req = urllib.request.Request('https://api.vk.com/method/wall.get?owner_id=%s&v=%s&offset=%s&access_token=%s' %\n",
    "                                (owner_id, v, offset, access_token)) \n",
    "    response = urllib.request.urlopen(req) \n",
    "    res = response.read().decode('utf-8')\n",
    "    data = json.loads(res)\n",
    "    return data\n",
    "\n",
    "\n",
    "def read_comment(itr, post_id):\n",
    "    # itr - номер итерации обращения к комментариям к посту\n",
    "    owner_id = '-64474568'\n",
    "    offset = str(itr * 100)\n",
    "    v ='5.92'\n",
    "    access_token = '68f7cc4b68f7cc4b68f7cc4b9c689e0eeb668f768f7cc4b345fbedb73b86a0bd1519d04'\n",
    "    req = urllib.request.Request('https://api.vk.com/method/wall.getComments?owner_id=%s&post_id=%s&v=%s&offset=%s&access_token=%s' %\n",
    "                                (owner_id, post_id, v, offset, access_token)) \n",
    "    response = urllib.request.urlopen(req) \n",
    "    res = response.read().decode('utf-8')\n",
    "    data = json.loads(res)\n",
    "    return data\n",
    "\n",
    "\n",
    "def read_author(auth_id):\n",
    "    owner_id = '-64474568'\n",
    "    v ='5.92'\n",
    "    access_token = '68f7cc4b68f7cc4b68f7cc4b9c689e0eeb668f768f7cc4b345fbedb73b86a0bd1519d04'\n",
    "    req = urllib.request.Request('https://api.vk.com/method/users.get?user_id=%s&v=%s&access_token=%s&fields=bdate,city,universities,has_photo' %\n",
    "                                (auth_id, v, access_token)) \n",
    "    response = urllib.request.urlopen(req) \n",
    "    res = response.read().decode('utf-8')\n",
    "    data = json.loads(res)\n",
    "    return data"
   ]
  },
  {
   "cell_type": "code",
   "execution_count": 7,
   "metadata": {},
   "outputs": [],
   "source": [
    "def make_db():\n",
    "    os.remove('vk.db')\n",
    "    conn = sqlite3.connect('vk.db')\n",
    "    conn.execute('create table if not exists post_inf(post_id text, txt text)')\n",
    "    conn.execute('create table if not exists comment_inf(post_id text, comment_id text, txt text)')\n",
    "    conn.execute('create table if not exists auth_post_inf(post_id text, auth_id text, city text, age integer)')\n",
    "    conn.execute('create table if not exists auth_comment_inf(comment_id text, auth_id text, universities text, has_photo integer)')\n",
    "    return conn\n",
    "\n",
    "    \n",
    "def proc(conn, data, f):\n",
    "    # добавление постов в базу данных\n",
    "    for i in range(len(data['response']['items'])):\n",
    "        try:\n",
    "            conn.execute('insert into post_inf(post_id, txt) values (?, ?)', \n",
    "                     (data['response']['items'][i]['id'], data['response']['items'][i]['text']))\n",
    "            \n",
    "            f.write(data['response']['items'][i]['text'])\n",
    "        \n",
    "            # добавление информации об авторе поста\n",
    "            if 'signer_id' in data['response']['items'][i]:\n",
    "                d_a = read_author(data['response']['items'][i]['signer_id'])\n",
    "                bd = d_a['response'][0]['bdate']\n",
    "                conn.execute('insert into auth_post_inf(post_id, auth_id, city, age) values (?, ?, ?, ?)',\n",
    "                            (data['response']['items'][i]['id'], data['response']['items'][i]['signer_id'],\n",
    "                            d_a['response'][0]['city']['title'], count_years(d_a['response'][0]['bdate'])))\n",
    "        \n",
    "            # добавление комментариев в базу данных\n",
    "            for j in range(3):\n",
    "                d = read_comment(j, data['response']['items'][i]['id'])\n",
    "                for k in range(len(d['response']['items'])):\n",
    "                    conn.execute('insert into comment_inf(post_id, comment_id, txt) values (?, ?, ?)',\n",
    "                                (d['response']['items'][k]['post_id'], d['response']['items'][k]['id'],\n",
    "                                d['response']['items'][k]['text']))\n",
    "                    f.write(d['response']['items'][k]['text'])\n",
    "\n",
    "                    d_a = read_author(d['response']['items'][0]['from_id'])\n",
    "                    if 'universities' not in d_a['response'][0]:\n",
    "                        uni = None\n",
    "                    else:\n",
    "                        uni = d_a['response'][0]['universities'][0]['name']\n",
    "                    conn.execute('insert into auth_comment_inf(comment_id, auth_id, universities, has_photo) values (?, ?, ?, ?)',\n",
    "                                (d['response']['items'][k]['id'], d['response']['items'][0]['from_id'], \n",
    "                                uni, d_a['response'][0]['has_photo']))\n",
    "\n",
    "            conn.commit()\n",
    "        except:\n",
    "            pass"
   ]
  },
  {
   "cell_type": "code",
   "execution_count": 8,
   "metadata": {},
   "outputs": [],
   "source": [
    "def connect_db():\n",
    "    return sqlite3.connect('vk.db')"
   ]
  },
  {
   "cell_type": "code",
   "execution_count": 9,
   "metadata": {
    "scrolled": false
   },
   "outputs": [],
   "source": [
    "f = open('plain text', 'w', encoding = 'utf-8')\n",
    "conn = make_db()\n",
    "try:\n",
    "    for i in range(5):\n",
    "        proc(conn, read_post(i))\n",
    "finally:\n",
    "        conn.close()   \n",
    "f.close()"
   ]
  },
  {
   "cell_type": "code",
   "execution_count": 9,
   "metadata": {},
   "outputs": [
    {
     "data": {
      "image/png": "[encoded data removed]",
      "text/plain": [
       "<Figure size 432x288 with 1 Axes>"
      ]
     },
     "metadata": {},
     "output_type": "display_data"
    }
   ],
   "source": [
    "conn = connect_db()\n",
    "\n",
    "x = []\n",
    "y = []\n",
    "posts = conn.execute('select * from post_inf').fetchall()\n",
    "for post in posts:\n",
    "    x += [len(clear(post[1]))]\n",
    "    comments = conn.execute('select * from comment_inf where post_id = ?', (post[0],)).fetchall()\n",
    "    if len(comments) != 0:\n",
    "        len_comm = 0\n",
    "        for comment in comments:\n",
    "            len_comm += len(clear(comment[2]))\n",
    "        y += [len_comm / len(comments)]\n",
    "    else:\n",
    "        y += [0]\n",
    "              \n",
    "plt.scatter(x, y, c='aqua', marker='v', edgecolors='blue')\n",
    "plt.xlabel('Длина поста')\n",
    "plt.ylabel('Средняя длина комментариев')\n",
    "plt.title('Корреляция между длиной поста и средней длиной комментариев')\n",
    "plt.savefig('kek')"
   ]
  },
  {
   "cell_type": "code",
   "execution_count": 10,
   "metadata": {},
   "outputs": [],
   "source": [
    "def add_to_dict(par, txt, d):\n",
    "    if par not in d:\n",
    "        d[par] = []\n",
    "    d[par] += [len(txt)]\n",
    "    return d"
   ]
  },
  {
   "cell_type": "code",
   "execution_count": 11,
   "metadata": {},
   "outputs": [
    {
     "data": {
      "image/png": "[encoded data removed]",
      "text/plain": [
       "<Figure size 432x288 with 1 Axes>"
      ]
     },
     "metadata": {},
     "output_type": "display_data"
    }
   ],
   "source": [
    "conn = connect_db()\n",
    "\n",
    "d = {}\n",
    "authors = conn.execute('select * from auth_post_inf').fetchall()\n",
    "for author in authors:\n",
    "    post = conn.execute('select * from post_inf where post_id=?', (author[0],)).fetchone()\n",
    "    \n",
    "    add_to_dict(author[2], clear(post[1]), d)\n",
    "              \n",
    "plt.scatter(d.keys(), list(map(lambda l: sum(l) / len(l), list(d.values()))), \n",
    "            c='aqua', marker='v', edgecolors='blue')\n",
    "plt.xlabel('Город')\n",
    "plt.ylabel('Средняя длина поста')\n",
    "plt.title('Корреляция между длиной поста и городом автора')\n",
    "plt.savefig('kek')"
   ]
  },
  {
   "cell_type": "code",
   "execution_count": 12,
   "metadata": {},
   "outputs": [
    {
     "data": {
      "image/png": "[encoded data removed]",
      "text/plain": [
       "<Figure size 432x288 with 1 Axes>"
      ]
     },
     "metadata": {},
     "output_type": "display_data"
    }
   ],
   "source": [
    "conn = connect_db()\n",
    "\n",
    "d = {}\n",
    "authors = conn.execute('select * from auth_post_inf').fetchall()\n",
    "for author in authors:\n",
    "    post = conn.execute('select * from post_inf where post_id=?', (author[0],)).fetchone()\n",
    "    \n",
    "    add_to_dict(author[3], clear(post[1]), d)\n",
    "              \n",
    "plt.scatter(d.keys(), list(map(lambda l: sum(l) / len(l), list(d.values()))), \n",
    "            c='aqua', marker='v', edgecolors='blue')\n",
    "plt.xlabel('Возраст')\n",
    "plt.ylabel('Средняя длина поста')\n",
    "plt.title('Корреляция между длиной поста и возрастом автора')\n",
    "plt.savefig('kek')"
   ]
  },
  {
   "cell_type": "code",
   "execution_count": 27,
   "metadata": {},
   "outputs": [
    {
     "data": {
      "image/png": "[encoded data removed]",
      "text/plain": [
       "<Figure size 432x288 with 1 Axes>"
      ]
     },
     "metadata": {},
     "output_type": "display_data"
    }
   ],
   "source": [
    "conn = connect_db()\n",
    "\n",
    "d = {}\n",
    "authors = conn.execute('select * from auth_comment_inf').fetchall()\n",
    "for author in authors:\n",
    "    comment = conn.execute('select * from comment_inf where comment_id=?', (author[0],)).fetchone()\n",
    "    uni = author[2]\n",
    "    if uni != None:\n",
    "        uni = uni.split()\n",
    "        uni = uni[0]\n",
    "    else:\n",
    "        uni = 'NaN'\n",
    "    add_to_dict(uni, clear(comment[2]), d)\n",
    "              \n",
    "plt.scatter(d.keys(), list(map(lambda l: sum(l) / len(l), list(d.values()))), \n",
    "            c='aqua', marker='v', edgecolors='blue')\n",
    "plt.xlabel('Университет')\n",
    "plt.ylabel('Средняя длина комментария')\n",
    "plt.title('Корреляция между длиной комментария и университетом автора')\n",
    "plt.savefig('kek')"
   ]
  },
  {
   "cell_type": "code",
   "execution_count": 30,
   "metadata": {},
   "outputs": [
    {
     "data": {
      "image/png": "[encoded data removed]",
      "text/plain": [
       "<Figure size 432x288 with 1 Axes>"
      ]
     },
     "metadata": {},
     "output_type": "display_data"
    }
   ],
   "source": [
    "conn = connect_db()\n",
    "\n",
    "d = {}\n",
    "authors = conn.execute('select * from auth_comment_inf').fetchall()\n",
    "for author in authors:\n",
    "    comment = conn.execute('select * from comment_inf where comment_id=?',\n",
    "                           (author[0],)).fetchone()\n",
    "    \n",
    "    add_to_dict(author[3], clear(comment[2]), d)\n",
    "              \n",
    "plt.scatter(d.keys(), list(map(lambda l: sum(l) / len(l), list(d.values()))), \n",
    "            c='aqua', marker='v', edgecolors='blue')\n",
    "plt.xlabel('Есть ли фото')\n",
    "plt.ylabel('Средняя длина комментария')\n",
    "plt.title('Корреляция между длиной комментария и наличием фото у автора')\n",
    "plt.savefig('kek')"
   ]
  },
  {
   "cell_type": "code",
   "execution_count": null,
   "metadata": {},
   "outputs": [],
   "source": [
    "def freq_words(f):\n",
    "# подсчёт частотности слов в текстах\n",
    "    text = f.read()\n",
    "    words = stopw(clear(text))\n",
    "    d = {}\n",
    "    \n",
    "    for word in words:\n",
    "        if word not in d:\n",
    "            d[word] = 0\n",
    "    d[word] += 1\n",
    "    \n",
    "    return sorted(d.keys(), key=lambda k: d[k], reverse=True)[:26]\n"
   ]
  },
  {
   "cell_type": "code",
   "execution_count": null,
   "metadata": {},
   "outputs": [],
   "source": [
    "f = open('plain text', 'r', encoding = 'utf-8')"
   ]
  },
  {
   "cell_type": "code",
   "execution_count": null,
   "metadata": {},
   "outputs": [],
   "source": []
  }
 ],
 "metadata": {
  "kernelspec": {
   "display_name": "Python 3",
   "language": "python",
   "name": "python3"
  },
  "language_info": {
   "codemirror_mode": {
    "name": "ipython",
    "version": 3
   },
   "file_extension": ".py",
   "mimetype": "text/x-python",
   "name": "python",
   "nbconvert_exporter": "python",
   "pygments_lexer": "ipython3",
   "version": "3.6.5"
  }
 },
 "nbformat": 4,
 "nbformat_minor": 2
}
